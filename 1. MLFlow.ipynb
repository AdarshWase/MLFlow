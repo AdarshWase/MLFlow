{
 "cells": [
  {
   "cell_type": "code",
   "execution_count": 1,
   "id": "087878ce",
   "metadata": {},
   "outputs": [],
   "source": [
    "import mlflow\n",
    "import sklearn\n",
    "import matplotlib\n",
    "import numpy as np\n",
    "import pandas as pd\n",
    "import mlflow.sklearn\n",
    "import seaborn as sns\n",
    "import matplotlib.pyplot as plt\n",
    "\n",
    "from sklearn.model_selection import KFold\n",
    "from sklearn.preprocessing import StandardScaler\n",
    "from sklearn.linear_model import LogisticRegression\n",
    "from sklearn.model_selection import train_test_split\n",
    "from sklearn.metrics import roc_auc_score, plot_roc_curve, confusion_matrix"
   ]
  },
  {
   "cell_type": "markdown",
   "id": "fc607b61",
   "metadata": {},
   "source": [
    "Data"
   ]
  },
  {
   "cell_type": "code",
   "execution_count": 2,
   "id": "b8af6075",
   "metadata": {},
   "outputs": [
    {
     "data": {
      "text/html": [
       "<div>\n",
       "<style scoped>\n",
       "    .dataframe tbody tr th:only-of-type {\n",
       "        vertical-align: middle;\n",
       "    }\n",
       "\n",
       "    .dataframe tbody tr th {\n",
       "        vertical-align: top;\n",
       "    }\n",
       "\n",
       "    .dataframe thead th {\n",
       "        text-align: right;\n",
       "    }\n",
       "</style>\n",
       "<table border=\"1\" class=\"dataframe\">\n",
       "  <thead>\n",
       "    <tr style=\"text-align: right;\">\n",
       "      <th></th>\n",
       "      <th>V1</th>\n",
       "      <th>V2</th>\n",
       "      <th>V3</th>\n",
       "      <th>V4</th>\n",
       "      <th>V5</th>\n",
       "      <th>V6</th>\n",
       "      <th>V7</th>\n",
       "      <th>V8</th>\n",
       "      <th>V9</th>\n",
       "      <th>V10</th>\n",
       "      <th>...</th>\n",
       "      <th>V21</th>\n",
       "      <th>V22</th>\n",
       "      <th>V23</th>\n",
       "      <th>V24</th>\n",
       "      <th>V25</th>\n",
       "      <th>V26</th>\n",
       "      <th>V27</th>\n",
       "      <th>V28</th>\n",
       "      <th>Amount</th>\n",
       "      <th>Class</th>\n",
       "    </tr>\n",
       "  </thead>\n",
       "  <tbody>\n",
       "    <tr>\n",
       "      <th>0</th>\n",
       "      <td>-1.359807</td>\n",
       "      <td>-0.072781</td>\n",
       "      <td>2.536347</td>\n",
       "      <td>1.378155</td>\n",
       "      <td>-0.338321</td>\n",
       "      <td>0.462388</td>\n",
       "      <td>0.239599</td>\n",
       "      <td>0.098698</td>\n",
       "      <td>0.363787</td>\n",
       "      <td>0.090794</td>\n",
       "      <td>...</td>\n",
       "      <td>-0.018307</td>\n",
       "      <td>0.277838</td>\n",
       "      <td>-0.110474</td>\n",
       "      <td>0.066928</td>\n",
       "      <td>0.128539</td>\n",
       "      <td>-0.189115</td>\n",
       "      <td>0.133558</td>\n",
       "      <td>-0.021053</td>\n",
       "      <td>149.62</td>\n",
       "      <td>0</td>\n",
       "    </tr>\n",
       "    <tr>\n",
       "      <th>1</th>\n",
       "      <td>1.191857</td>\n",
       "      <td>0.266151</td>\n",
       "      <td>0.166480</td>\n",
       "      <td>0.448154</td>\n",
       "      <td>0.060018</td>\n",
       "      <td>-0.082361</td>\n",
       "      <td>-0.078803</td>\n",
       "      <td>0.085102</td>\n",
       "      <td>-0.255425</td>\n",
       "      <td>-0.166974</td>\n",
       "      <td>...</td>\n",
       "      <td>-0.225775</td>\n",
       "      <td>-0.638672</td>\n",
       "      <td>0.101288</td>\n",
       "      <td>-0.339846</td>\n",
       "      <td>0.167170</td>\n",
       "      <td>0.125895</td>\n",
       "      <td>-0.008983</td>\n",
       "      <td>0.014724</td>\n",
       "      <td>2.69</td>\n",
       "      <td>0</td>\n",
       "    </tr>\n",
       "    <tr>\n",
       "      <th>2</th>\n",
       "      <td>-1.358354</td>\n",
       "      <td>-1.340163</td>\n",
       "      <td>1.773209</td>\n",
       "      <td>0.379780</td>\n",
       "      <td>-0.503198</td>\n",
       "      <td>1.800499</td>\n",
       "      <td>0.791461</td>\n",
       "      <td>0.247676</td>\n",
       "      <td>-1.514654</td>\n",
       "      <td>0.207643</td>\n",
       "      <td>...</td>\n",
       "      <td>0.247998</td>\n",
       "      <td>0.771679</td>\n",
       "      <td>0.909412</td>\n",
       "      <td>-0.689281</td>\n",
       "      <td>-0.327642</td>\n",
       "      <td>-0.139097</td>\n",
       "      <td>-0.055353</td>\n",
       "      <td>-0.059752</td>\n",
       "      <td>378.66</td>\n",
       "      <td>0</td>\n",
       "    </tr>\n",
       "    <tr>\n",
       "      <th>3</th>\n",
       "      <td>-0.966272</td>\n",
       "      <td>-0.185226</td>\n",
       "      <td>1.792993</td>\n",
       "      <td>-0.863291</td>\n",
       "      <td>-0.010309</td>\n",
       "      <td>1.247203</td>\n",
       "      <td>0.237609</td>\n",
       "      <td>0.377436</td>\n",
       "      <td>-1.387024</td>\n",
       "      <td>-0.054952</td>\n",
       "      <td>...</td>\n",
       "      <td>-0.108300</td>\n",
       "      <td>0.005274</td>\n",
       "      <td>-0.190321</td>\n",
       "      <td>-1.175575</td>\n",
       "      <td>0.647376</td>\n",
       "      <td>-0.221929</td>\n",
       "      <td>0.062723</td>\n",
       "      <td>0.061458</td>\n",
       "      <td>123.50</td>\n",
       "      <td>0</td>\n",
       "    </tr>\n",
       "    <tr>\n",
       "      <th>4</th>\n",
       "      <td>-1.158233</td>\n",
       "      <td>0.877737</td>\n",
       "      <td>1.548718</td>\n",
       "      <td>0.403034</td>\n",
       "      <td>-0.407193</td>\n",
       "      <td>0.095921</td>\n",
       "      <td>0.592941</td>\n",
       "      <td>-0.270533</td>\n",
       "      <td>0.817739</td>\n",
       "      <td>0.753074</td>\n",
       "      <td>...</td>\n",
       "      <td>-0.009431</td>\n",
       "      <td>0.798278</td>\n",
       "      <td>-0.137458</td>\n",
       "      <td>0.141267</td>\n",
       "      <td>-0.206010</td>\n",
       "      <td>0.502292</td>\n",
       "      <td>0.219422</td>\n",
       "      <td>0.215153</td>\n",
       "      <td>69.99</td>\n",
       "      <td>0</td>\n",
       "    </tr>\n",
       "  </tbody>\n",
       "</table>\n",
       "<p>5 rows × 30 columns</p>\n",
       "</div>"
      ],
      "text/plain": [
       "         V1        V2        V3        V4        V5        V6        V7  \\\n",
       "0 -1.359807 -0.072781  2.536347  1.378155 -0.338321  0.462388  0.239599   \n",
       "1  1.191857  0.266151  0.166480  0.448154  0.060018 -0.082361 -0.078803   \n",
       "2 -1.358354 -1.340163  1.773209  0.379780 -0.503198  1.800499  0.791461   \n",
       "3 -0.966272 -0.185226  1.792993 -0.863291 -0.010309  1.247203  0.237609   \n",
       "4 -1.158233  0.877737  1.548718  0.403034 -0.407193  0.095921  0.592941   \n",
       "\n",
       "         V8        V9       V10  ...       V21       V22       V23       V24  \\\n",
       "0  0.098698  0.363787  0.090794  ... -0.018307  0.277838 -0.110474  0.066928   \n",
       "1  0.085102 -0.255425 -0.166974  ... -0.225775 -0.638672  0.101288 -0.339846   \n",
       "2  0.247676 -1.514654  0.207643  ...  0.247998  0.771679  0.909412 -0.689281   \n",
       "3  0.377436 -1.387024 -0.054952  ... -0.108300  0.005274 -0.190321 -1.175575   \n",
       "4 -0.270533  0.817739  0.753074  ... -0.009431  0.798278 -0.137458  0.141267   \n",
       "\n",
       "        V25       V26       V27       V28  Amount  Class  \n",
       "0  0.128539 -0.189115  0.133558 -0.021053  149.62      0  \n",
       "1  0.167170  0.125895 -0.008983  0.014724    2.69      0  \n",
       "2 -0.327642 -0.139097 -0.055353 -0.059752  378.66      0  \n",
       "3  0.647376 -0.221929  0.062723  0.061458  123.50      0  \n",
       "4 -0.206010  0.502292  0.219422  0.215153   69.99      0  \n",
       "\n",
       "[5 rows x 30 columns]"
      ]
     },
     "execution_count": 2,
     "metadata": {},
     "output_type": "execute_result"
    }
   ],
   "source": [
    "data_path = 'Dataset/creditcard.csv'\n",
    "df = pd.read_csv(data_path)\n",
    "df = df.drop('Time', axis = 1)\n",
    "df.head()"
   ]
  },
  {
   "cell_type": "code",
   "execution_count": 3,
   "id": "17a5c59d",
   "metadata": {},
   "outputs": [
    {
     "data": {
      "text/plain": [
       "((142158, 30), (492, 30))"
      ]
     },
     "execution_count": 3,
     "metadata": {},
     "output_type": "execute_result"
    }
   ],
   "source": [
    "normal = df[df.Class == 0].sample(frac = 0.5, random_state = 2022).reset_index(drop = True)\n",
    "anomaly = df[df.Class == 1]\n",
    "\n",
    "normal.shape, anomaly.shape"
   ]
  },
  {
   "cell_type": "code",
   "execution_count": 4,
   "id": "e18834ff",
   "metadata": {},
   "outputs": [],
   "source": [
    "normal_train, normal_test = train_test_split(normal, test_size = 0.2, random_state = 2020)\n",
    "anomaly_train, anomaly_test =train_test_split(anomaly, test_size = 0.2, random_state = 2020)\n",
    "normal_train, normal_validate = train_test_split(normal_train, test_size = 0.25, random_state = 2020)\n",
    "anomaly_train, anomaly_validate = train_test_split(anomaly_train, test_size = 0.25, random_state = 2020)"
   ]
  },
  {
   "cell_type": "code",
   "execution_count": 5,
   "id": "9a8b158a",
   "metadata": {},
   "outputs": [],
   "source": [
    "x_train = pd.concat((normal_train, anomaly_train))\n",
    "x_test = pd.concat((normal_test, anomaly_test))\n",
    "x_validate = pd.concat((normal_validate, anomaly_validate))\n",
    "\n",
    "y_train = np.array(x_train[\"Class\"])\n",
    "y_test = np.array(x_test[\"Class\"])\n",
    "y_validate = np.array(x_validate[\"Class\"])\n",
    "\n",
    "x_train = x_train.drop(\"Class\", axis = 1)\n",
    "x_test = x_test.drop(\"Class\", axis = 1)\n",
    "x_validate = x_validate.drop(\"Class\", axis = 1)"
   ]
  },
  {
   "cell_type": "markdown",
   "id": "6aee4665",
   "metadata": {},
   "source": [
    "Scaling"
   ]
  },
  {
   "cell_type": "code",
   "execution_count": 6,
   "id": "3760f8d8",
   "metadata": {},
   "outputs": [],
   "source": [
    "scaler = StandardScaler()\n",
    "scaler.fit(pd.concat((normal, anomaly)).drop('Class', axis = 1))\n",
    "\n",
    "x_train = scaler.transform(x_train)\n",
    "x_test = scaler.transform(x_test)\n",
    "x_validate = scaler.transform(x_validate)"
   ]
  },
  {
   "cell_type": "markdown",
   "id": "579b1481",
   "metadata": {},
   "source": [
    "Training with MLFlow"
   ]
  },
  {
   "cell_type": "code",
   "execution_count": 7,
   "id": "5cb94549",
   "metadata": {},
   "outputs": [],
   "source": [
    "def train(sk_model, x_train, y_train):\n",
    "    sk_model = sk_model.fit(x_train, y_train)\n",
    "    \n",
    "    train_acc = sk_model.score(x_train, y_train)\n",
    "    mlflow.log_metric('train_acc', train_acc)\n",
    "    \n",
    "    print('Training Accuracy:', train_acc * 100, '%')"
   ]
  },
  {
   "cell_type": "code",
   "execution_count": 8,
   "id": "abb3ebaa",
   "metadata": {},
   "outputs": [],
   "source": [
    "def evaluate(sk_model, x_test, y_test):\n",
    "    eval_acc = sk_model.score(x_test, y_test)\n",
    "    \n",
    "    preds = sk_model.predict(x_test)\n",
    "    auc_score = roc_auc_score(y_test, preds)\n",
    "    \n",
    "    mlflow.log_metric('eval_acc', eval_acc)\n",
    "    mlflow.log_metric('auc_score', auc_score)\n",
    "    \n",
    "    print('AUC Score:', auc_score)\n",
    "    print('Eval Accuracy:', eval_acc * 100, '%')\n",
    "    \n",
    "    roc_plot = plot_roc_curve(sk_model, x_test, y_test, name = 'ROC Curve')\n",
    "    plt.savefig('roc_plot.png')\n",
    "    plt.show()\n",
    "    plt.clf()\n",
    "    \n",
    "    conf_matrix = confusion_matrix(y_test, preds)\n",
    "    ax = sns.heatmap(conf_matrix, annot = True, fmt = 'g')\n",
    "    ax.invert_xaxis()\n",
    "    ax.invert_yaxis()\n",
    "    plt.ylabel('Actual')\n",
    "    plt.xlabel('Predicted')\n",
    "    plt.title('Confusion Matrix')\n",
    "    plt.savefig('conf_matrix.png')\n",
    "    \n",
    "    mlflow.log_artifact('roc_plot.png')\n",
    "    mlflow.log_artifact('conf_matrix.png')"
   ]
  },
  {
   "cell_type": "markdown",
   "id": "886872f0",
   "metadata": {},
   "source": [
    "Logging and Viewing MLFlow Runs"
   ]
  },
  {
   "cell_type": "code",
   "execution_count": 9,
   "id": "fb6ca3f6",
   "metadata": {},
   "outputs": [],
   "source": [
    "sk_model = LogisticRegression(max_iter = 150,\n",
    "                              n_jobs = -1,\n",
    "                              solver = 'newton-cg')"
   ]
  },
  {
   "cell_type": "code",
   "execution_count": 10,
   "id": "d6169051",
   "metadata": {},
   "outputs": [
    {
     "name": "stdout",
     "output_type": "stream",
     "text": [
      "Training Accuracy: 99.87848763845399 %\n",
      "AUC Score: 0.8332102326017632\n",
      "Eval Accuracy: 99.8598016192913 %\n"
     ]
    },
    {
     "data": {
      "image/png": "[encoded data removed]",
      "text/plain": [
       "<Figure size 432x288 with 1 Axes>"
      ]
     },
     "metadata": {
      "needs_background": "light"
     },
     "output_type": "display_data"
    },
    {
     "name": "stdout",
     "output_type": "stream",
     "text": [
      "Model run:  2f25f82129f8493897a0f5dfd64e84e4\n"
     ]
    },
    {
     "data": {
      "image/png": "[encoded data removed]",
      "text/plain": [
       "<Figure size 432x288 with 2 Axes>"
      ]
     },
     "metadata": {
      "needs_background": "light"
     },
     "output_type": "display_data"
    }
   ],
   "source": [
    "mlflow.set_experiment('scikit_learn_experiment')\n",
    "\n",
    "with mlflow.start_run():\n",
    "    train(sk_model, x_train, y_train)\n",
    "    evaluate(sk_model, x_test, y_test)\n",
    "    mlflow.sklearn.log_model(sk_model, 'log_reg_model')\n",
    "    \n",
    "    print('Model run: ', mlflow.active_run().info.run_uuid)\n",
    "    mlflow.end_run()"
   ]
  },
  {
   "cell_type": "code",
   "execution_count": 25,
   "id": "021b696f",
   "metadata": {},
   "outputs": [],
   "source": [
    "path = 'runs:/4b418e26647a4656bc839593e43363a5/log_reg_model'\n",
    "loaded_model = mlflow.sklearn.load_model(path)"
   ]
  },
  {
   "cell_type": "code",
   "execution_count": 26,
   "id": "ddf04b95",
   "metadata": {},
   "outputs": [
    {
     "data": {
      "text/plain": [
       "0.9987031649784445"
      ]
     },
     "execution_count": 26,
     "metadata": {},
     "output_type": "execute_result"
    }
   ],
   "source": [
    "loaded_model.score(x_validate, y_validate)"
   ]
  },
  {
   "cell_type": "markdown",
   "id": "8078bf57",
   "metadata": {},
   "source": [
    "Parameter Tuning"
   ]
  },
  {
   "cell_type": "code",
   "execution_count": 11,
   "id": "4827d693",
   "metadata": {},
   "outputs": [],
   "source": [
    "num_folds = 5\n",
    "anomaly_weights = [1, 5, 10, 15]\n",
    "\n",
    "kfold = KFold(n_splits = num_folds, shuffle = True, random_state = 2022)"
   ]
  },
  {
   "cell_type": "code",
   "execution_count": 13,
   "id": "4855fb8f",
   "metadata": {},
   "outputs": [
    {
     "name": "stdout",
     "output_type": "stream",
     "text": [
      "----------------------------------------Fold 1 Anomaly Weight: 1\n",
      "AUC: 0.8514997391757956 auc_score 0.8514997391757956\n",
      "----------------------------------------Fold 2 Anomaly Weight: 1\n",
      "AUC: 0.8634604311944213 auc_score 0.8634604311944213\n",
      "----------------------------------------Fold 3 Anomaly Weight: 1\n",
      "AUC: 0.7726393065063015 auc_score 0.7726393065063015\n",
      "----------------------------------------Fold 4 Anomaly Weight: 1\n",
      "AUC: 0.947192581418378 auc_score 0.947192581418378\n",
      "----------------------------------------Fold 5 Anomaly Weight: 1\n",
      "AUC: 0.8888011233982798 auc_score 0.8888011233982798\n",
      "----------------------------------------Fold 1 Anomaly Weight: 5\n",
      "AUC: 0.9068792383933229 auc_score 0.9068792383933229\n",
      "----------------------------------------Fold 2 Anomaly Weight: 5\n",
      "AUC: 0.9314663169342972 auc_score 0.9314663169342972\n",
      "----------------------------------------Fold 3 Anomaly Weight: 5\n",
      "AUC: 0.8859238052587806 auc_score 0.8859238052587806\n",
      "----------------------------------------Fold 4 Anomaly Weight: 5\n",
      "AUC: 0.947192581418378 auc_score 0.947192581418378\n",
      "----------------------------------------Fold 5 Anomaly Weight: 5\n",
      "AUC: 0.9443566789538353 auc_score 0.9443566789538353\n",
      "----------------------------------------Fold 1 Anomaly Weight: 10\n",
      "AUC: 0.9250456442357851 auc_score 0.9250456442357851\n",
      "----------------------------------------Fold 2 Anomaly Weight: 10\n",
      "AUC: 0.9313783507133262 auc_score 0.9313783507133262\n",
      "----------------------------------------Fold 3 Anomaly Weight: 10\n",
      "AUC: 0.8857478728168383 auc_score 0.8857478728168383\n",
      "----------------------------------------Fold 4 Anomaly Weight: 10\n",
      "AUC: 0.9467529823327442 auc_score 0.9467529823327442\n",
      "----------------------------------------Fold 5 Anomaly Weight: 10\n",
      "AUC: 0.944093382482008 auc_score 0.944093382482008\n",
      "----------------------------------------Fold 1 Anomaly Weight: 15\n",
      "AUC: 0.9242533907146584 auc_score 0.9242533907146584\n",
      "----------------------------------------Fold 2 Anomaly Weight: 15\n",
      "AUC: 0.9312024182713838 auc_score 0.9312024182713838\n",
      "----------------------------------------Fold 3 Anomaly Weight: 15\n",
      "AUC: 0.8856599065958671 auc_score 0.8856599065958671\n",
      "----------------------------------------Fold 4 Anomaly Weight: 15\n",
      "AUC: 0.9466650625156173 auc_score 0.9466650625156173\n",
      "----------------------------------------Fold 5 Anomaly Weight: 15\n",
      "AUC: 0.944093382482008 auc_score 0.944093382482008\n"
     ]
    }
   ],
   "source": [
    "mlflow.set_experiment('parameter_tune_broad_search')\n",
    "logs = []\n",
    "\n",
    "for f in range(len(anomaly_weights)):\n",
    "    fold = 1\n",
    "    accuracies = []\n",
    "    auc_scores = []\n",
    "    \n",
    "    for train, test in kfold.split(x_validate, y_validate):\n",
    "        with mlflow.start_run():\n",
    "            weight = anomaly_weights[f]\n",
    "            mlflow.log_param('anomaly_weight', weight)\n",
    "            \n",
    "            class_weights = {0:1, 1:weight}\n",
    "            \n",
    "            sk_model = LogisticRegression(max_iter = 400, n_jobs = -1,\n",
    "                                         solver = 'newton-cg',\n",
    "                                         class_weight = class_weights).fit(x_validate[train], y_validate[train])\n",
    "            \n",
    "            for h in range(40): print('-', end = \"\")\n",
    "            print('Fold', fold, 'Anomaly Weight:', weight)\n",
    "            \n",
    "            train_acc = sk_model.score(x_validate[train], y_validate[train])\n",
    "            mlflow.log_metric('train_acc', train_acc)\n",
    "            \n",
    "            eval_acc = sk_model.score(x_validate[test], y_validate[test])\n",
    "            preds = sk_model.predict(x_validate[test])\n",
    "            mlflow.log_metric('eval_acc', eval_acc)\n",
    "            \n",
    "            try:\n",
    "                auc_score = roc_auc_score(y_validate[test], preds)\n",
    "            except:\n",
    "                auc_score = -1\n",
    "            \n",
    "            mlflow.log_metric('auc_score', auc_score)\n",
    "            print('AUC:', auc_score, 'auc_score', auc_score)\n",
    "            \n",
    "            accuracies.append(eval_acc)\n",
    "            accuracies.append(auc_scores)\n",
    "            \n",
    "            log = [sk_model, x_validate[test], y_validate[test], preds]\n",
    "            logs.append(log)\n",
    "            mlflow.sklearn.log_model(sk_model, f\"anom_weight_{weight}_fold_{fold}\")\n",
    "            \n",
    "            fold = fold + 1\n",
    "            mlflow.end_run()"
   ]
  },
  {
   "cell_type": "code",
   "execution_count": null,
   "id": "82c99337",
   "metadata": {},
   "outputs": [],
   "source": []
  }
 ],
 "metadata": {
  "kernelspec": {
   "display_name": "Python 3",
   "language": "python",
   "name": "python3"
  },
  "language_info": {
   "codemirror_mode": {
    "name": "ipython",
    "version": 3
   },
   "file_extension": ".py",
   "mimetype": "text/x-python",
   "name": "python",
   "nbconvert_exporter": "python",
   "pygments_lexer": "ipython3",
   "version": "3.8.8"
  }
 },
 "nbformat": 4,
 "nbformat_minor": 5
}
